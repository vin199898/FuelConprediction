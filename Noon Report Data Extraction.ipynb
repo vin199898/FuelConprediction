{
  "nbformat": 4,
  "nbformat_minor": 0,
  "metadata": {
    "colab": {
      "provenance": [],
      "include_colab_link": true
    },
    "kernelspec": {
      "name": "python3",
      "display_name": "Python 3"
    },
    "language_info": {
      "name": "python"
    }
  },
  "cells": [
    {
      "cell_type": "markdown",
      "metadata": {
        "id": "view-in-github",
        "colab_type": "text"
      },
      "source": [
        "<a href=\"https://colab.research.google.com/github/vin199898/FuelConprediction/blob/main/Noon%20Report%20Data%20Extraction.ipynb\" target=\"_parent\"><img src=\"https://colab.research.google.com/assets/colab-badge.svg\" alt=\"Open In Colab\"/></a>"
      ]
    },
    {
      "cell_type": "code",
      "source": [
        "!wget https://www.dropbox.com/s/fdwz5zya189hlvp/Bulk%20carrier%20data.zip?raw=1 ./data.zip"
      ],
      "metadata": {
        "colab": {
          "base_uri": "https://localhost:8080/"
        },
        "id": "W-pvnYxLSvxE",
        "outputId": "34b58ef0-feb2-4ce2-a17d-14fd4e7eb825"
      },
      "execution_count": null,
      "outputs": [
        {
          "output_type": "stream",
          "name": "stdout",
          "text": [
            "--2023-05-20 14:24:43--  https://www.dropbox.com/s/fdwz5zya189hlvp/Bulk%20carrier%20data.zip?raw=1\n",
            "Resolving www.dropbox.com (www.dropbox.com)... 162.125.6.18, 2620:100:601c:18::a27d:612\n",
            "Connecting to www.dropbox.com (www.dropbox.com)|162.125.6.18|:443... connected.\n",
            "HTTP request sent, awaiting response... 302 Found\n",
            "Location: /s/raw/fdwz5zya189hlvp/Bulk%20carrier%20data.zip [following]\n",
            "--2023-05-20 14:24:43--  https://www.dropbox.com/s/raw/fdwz5zya189hlvp/Bulk%20carrier%20data.zip\n",
            "Reusing existing connection to www.dropbox.com:443.\n",
            "HTTP request sent, awaiting response... 302 Found\n",
            "Location: https://uc37f88268bb17f190bcd0f1b0c8.dl.dropboxusercontent.com/cd/0/inline/B8Z95iEdKjprHede-27Ob7VSajdve5cCGKCrRBw9nA7pOFpWRQokPHhG7gTJUNkLBe80rISKuwI7nOvQZPxwIAb6jOlmb1CiP9osWWe4wuuoofp_DpsIq7FiSHsq6NImCt_y0_O2BeZjuAz6AiwLT7mW7-RgTrXjhC_7mHj5xNSNmA/file# [following]\n",
            "--2023-05-20 14:24:43--  https://uc37f88268bb17f190bcd0f1b0c8.dl.dropboxusercontent.com/cd/0/inline/B8Z95iEdKjprHede-27Ob7VSajdve5cCGKCrRBw9nA7pOFpWRQokPHhG7gTJUNkLBe80rISKuwI7nOvQZPxwIAb6jOlmb1CiP9osWWe4wuuoofp_DpsIq7FiSHsq6NImCt_y0_O2BeZjuAz6AiwLT7mW7-RgTrXjhC_7mHj5xNSNmA/file\n",
            "Resolving uc37f88268bb17f190bcd0f1b0c8.dl.dropboxusercontent.com (uc37f88268bb17f190bcd0f1b0c8.dl.dropboxusercontent.com)... 162.125.6.15, 2620:100:601c:15::a27d:60f\n",
            "Connecting to uc37f88268bb17f190bcd0f1b0c8.dl.dropboxusercontent.com (uc37f88268bb17f190bcd0f1b0c8.dl.dropboxusercontent.com)|162.125.6.15|:443... connected.\n",
            "HTTP request sent, awaiting response... 302 Found\n",
            "Location: /cd/0/inline2/B8bLjsHjFiGBIYG_MG4Y5Veo8E6gGxBubGrqdu9h3hx1j9lhvaflqO8QVkhYAuRXEWCBVJChf2ZxYcKOgRIFkEgjxrBaKimORMPNfpO6hoRe0ERVxh78KnCO0S_v7WBCKMAI1c5YgD4mhS5PHMHKoijGpNJ20emD1msgVJZxoSptiR1gsTeLk55lj3WKcq2DDzHjVq2TlDR-g1jNVR0YZXXaTXOVyVMwuCZqYORMpnc2_0uA6f32qT929pb3N02DMB_CKpTVuCGoTXtWjP6Gy6qMTSLvBLc2nIa_MDFU-_TsNl4_8zSxDnYwMQ_nfisY5QhOq20Pkj3IatkqZpr2Kpl0FXqcSERG6chDZtv4eBOtx9qPMSWZRokFcS8vJaZVaE1suFVlesIjUnuc9X9jxVHV-mNOtfEgBwk2q-14i5RD_Q/file [following]\n",
            "--2023-05-20 14:24:43--  https://uc37f88268bb17f190bcd0f1b0c8.dl.dropboxusercontent.com/cd/0/inline2/B8bLjsHjFiGBIYG_MG4Y5Veo8E6gGxBubGrqdu9h3hx1j9lhvaflqO8QVkhYAuRXEWCBVJChf2ZxYcKOgRIFkEgjxrBaKimORMPNfpO6hoRe0ERVxh78KnCO0S_v7WBCKMAI1c5YgD4mhS5PHMHKoijGpNJ20emD1msgVJZxoSptiR1gsTeLk55lj3WKcq2DDzHjVq2TlDR-g1jNVR0YZXXaTXOVyVMwuCZqYORMpnc2_0uA6f32qT929pb3N02DMB_CKpTVuCGoTXtWjP6Gy6qMTSLvBLc2nIa_MDFU-_TsNl4_8zSxDnYwMQ_nfisY5QhOq20Pkj3IatkqZpr2Kpl0FXqcSERG6chDZtv4eBOtx9qPMSWZRokFcS8vJaZVaE1suFVlesIjUnuc9X9jxVHV-mNOtfEgBwk2q-14i5RD_Q/file\n",
            "Reusing existing connection to uc37f88268bb17f190bcd0f1b0c8.dl.dropboxusercontent.com:443.\n",
            "HTTP request sent, awaiting response... 200 OK\n",
            "Length: 1694431 (1.6M) [application/zip]\n",
            "Saving to: ‘Bulk carrier data.zip?raw=1’\n",
            "\n",
            "Bulk carrier data.z 100%[===================>]   1.62M  --.-KB/s    in 0.01s   \n",
            "\n",
            "2023-05-20 14:24:43 (148 MB/s) - ‘Bulk carrier data.zip?raw=1’ saved [1694431/1694431]\n",
            "\n",
            "--2023-05-20 14:24:43--  http://./data.zip\n",
            "Resolving . (.)... failed: No address associated with hostname.\n",
            "wget: unable to resolve host address ‘.’\n",
            "FINISHED --2023-05-20 14:24:43--\n",
            "Total wall clock time: 0.6s\n",
            "Downloaded: 1 files, 1.6M in 0.01s (148 MB/s)\n"
          ]
        }
      ]
    },
    {
      "cell_type": "code",
      "source": [
        "import os\n",
        "import zipfile\n",
        "local_zip = 'data.zip'\n",
        "zip_ref = zipfile.ZipFile(local_zip, 'r')\n",
        "zip_ref.extractall('./')\n",
        "zip_ref.close()"
      ],
      "metadata": {
        "id": "1mGhxnEyS0hr",
        "colab": {
          "base_uri": "https://localhost:8080/",
          "height": 356
        },
        "outputId": "f49c5def-87b1-4a25-f783-adca203cd1d6"
      },
      "execution_count": null,
      "outputs": [
        {
          "output_type": "error",
          "ename": "FileNotFoundError",
          "evalue": "ignored",
          "traceback": [
            "\u001b[0;31m---------------------------------------------------------------------------\u001b[0m",
            "\u001b[0;31mFileNotFoundError\u001b[0m                         Traceback (most recent call last)",
            "\u001b[0;32m<ipython-input-13-f6c28fadcc96>\u001b[0m in \u001b[0;36m<cell line: 4>\u001b[0;34m()\u001b[0m\n\u001b[1;32m      2\u001b[0m \u001b[0;32mimport\u001b[0m \u001b[0mzipfile\u001b[0m\u001b[0;34m\u001b[0m\u001b[0;34m\u001b[0m\u001b[0m\n\u001b[1;32m      3\u001b[0m \u001b[0mlocal_zip\u001b[0m \u001b[0;34m=\u001b[0m \u001b[0;34m'data.zip'\u001b[0m\u001b[0;34m\u001b[0m\u001b[0;34m\u001b[0m\u001b[0m\n\u001b[0;32m----> 4\u001b[0;31m \u001b[0mzip_ref\u001b[0m \u001b[0;34m=\u001b[0m \u001b[0mzipfile\u001b[0m\u001b[0;34m.\u001b[0m\u001b[0mZipFile\u001b[0m\u001b[0;34m(\u001b[0m\u001b[0mlocal_zip\u001b[0m\u001b[0;34m,\u001b[0m \u001b[0;34m'r'\u001b[0m\u001b[0;34m)\u001b[0m\u001b[0;34m\u001b[0m\u001b[0;34m\u001b[0m\u001b[0m\n\u001b[0m\u001b[1;32m      5\u001b[0m \u001b[0mzip_ref\u001b[0m\u001b[0;34m.\u001b[0m\u001b[0mextractall\u001b[0m\u001b[0;34m(\u001b[0m\u001b[0;34m'./'\u001b[0m\u001b[0;34m)\u001b[0m\u001b[0;34m\u001b[0m\u001b[0;34m\u001b[0m\u001b[0m\n\u001b[1;32m      6\u001b[0m \u001b[0mzip_ref\u001b[0m\u001b[0;34m.\u001b[0m\u001b[0mclose\u001b[0m\u001b[0;34m(\u001b[0m\u001b[0;34m)\u001b[0m\u001b[0;34m\u001b[0m\u001b[0;34m\u001b[0m\u001b[0m\n",
            "\u001b[0;32m/usr/lib/python3.10/zipfile.py\u001b[0m in \u001b[0;36m__init__\u001b[0;34m(self, file, mode, compression, allowZip64, compresslevel, strict_timestamps)\u001b[0m\n\u001b[1;32m   1249\u001b[0m             \u001b[0;32mwhile\u001b[0m \u001b[0;32mTrue\u001b[0m\u001b[0;34m:\u001b[0m\u001b[0;34m\u001b[0m\u001b[0;34m\u001b[0m\u001b[0m\n\u001b[1;32m   1250\u001b[0m                 \u001b[0;32mtry\u001b[0m\u001b[0;34m:\u001b[0m\u001b[0;34m\u001b[0m\u001b[0;34m\u001b[0m\u001b[0m\n\u001b[0;32m-> 1251\u001b[0;31m                     \u001b[0mself\u001b[0m\u001b[0;34m.\u001b[0m\u001b[0mfp\u001b[0m \u001b[0;34m=\u001b[0m \u001b[0mio\u001b[0m\u001b[0;34m.\u001b[0m\u001b[0mopen\u001b[0m\u001b[0;34m(\u001b[0m\u001b[0mfile\u001b[0m\u001b[0;34m,\u001b[0m \u001b[0mfilemode\u001b[0m\u001b[0;34m)\u001b[0m\u001b[0;34m\u001b[0m\u001b[0;34m\u001b[0m\u001b[0m\n\u001b[0m\u001b[1;32m   1252\u001b[0m                 \u001b[0;32mexcept\u001b[0m \u001b[0mOSError\u001b[0m\u001b[0;34m:\u001b[0m\u001b[0;34m\u001b[0m\u001b[0;34m\u001b[0m\u001b[0m\n\u001b[1;32m   1253\u001b[0m                     \u001b[0;32mif\u001b[0m \u001b[0mfilemode\u001b[0m \u001b[0;32min\u001b[0m \u001b[0mmodeDict\u001b[0m\u001b[0;34m:\u001b[0m\u001b[0;34m\u001b[0m\u001b[0;34m\u001b[0m\u001b[0m\n",
            "\u001b[0;31mFileNotFoundError\u001b[0m: [Errno 2] No such file or directory: 'data.zip'"
          ]
        }
      ]
    },
    {
      "cell_type": "code",
      "source": [
        "!pip install openpyxl"
      ],
      "metadata": {
        "colab": {
          "base_uri": "https://localhost:8080/"
        },
        "id": "cpKMUOVXS3hd",
        "outputId": "f9857abd-e377-4130-dd54-462901cb6178"
      },
      "execution_count": null,
      "outputs": [
        {
          "output_type": "stream",
          "name": "stdout",
          "text": [
            "Looking in indexes: https://pypi.org/simple, https://us-python.pkg.dev/colab-wheels/public/simple/\n",
            "Requirement already satisfied: openpyxl in /usr/local/lib/python3.10/dist-packages (3.0.10)\n",
            "Requirement already satisfied: et-xmlfile in /usr/local/lib/python3.10/dist-packages (from openpyxl) (1.1.0)\n"
          ]
        }
      ]
    },
    {
      "cell_type": "code",
      "source": [
        "import pandas as pd\n",
        "import os\n",
        "import glob"
      ],
      "metadata": {
        "id": "6YDUeyB9S_LC"
      },
      "execution_count": null,
      "outputs": []
    },
    {
      "cell_type": "code",
      "source": [
        "flist = glob.glob('*.xlsx')\n",
        "flist"
      ],
      "metadata": {
        "colab": {
          "base_uri": "https://localhost:8080/"
        },
        "id": "6zJulKuWTCAl",
        "outputId": "5f949538-209d-4d22-ab18-dfce532495f8"
      },
      "execution_count": null,
      "outputs": [
        {
          "output_type": "execute_result",
          "data": {
            "text/plain": [
              "['V36.xlsx',\n",
              " 'V35.xlsx',\n",
              " 'V28.xlsx',\n",
              " 'V29.xlsx',\n",
              " 'V34.xlsx',\n",
              " 'V31.xlsx',\n",
              " 'V32.xlsx',\n",
              " 'V30.xlsx',\n",
              " 'V33.xlsx']"
            ]
          },
          "metadata": {},
          "execution_count": 28
        }
      ]
    },
    {
      "cell_type": "code",
      "source": [
        "main_df = pd.DataFrame()\n",
        "for filename in flist:\n",
        "    print(filename)\n",
        "    df = pd.read_excel(filename,sheet_name = \"OUT\", names = ['loc','HoursPropelhrs','HoursPropelmin','Dethrs','Detmin','portDrifthrs','portDriftmin','disENG','disLOG','disOG','speedLOG','speedOG','mainEngFO','mainEngDO','auxEngFO','auxEngDO','mainEngDetFO','mainEngDetDO','auxEngDetFO', 'auxEngDetDO','mainEngPortFO','mainEngPortDO','AuxEngPortFO','AuxEngPortDo'], header=None, usecols=\"C,L:Q,V:X,AB:AC,AG:AJ,AO:AR,AU:AX\",skiprows=9,nrows=40)\n",
        "    main_df = main_df.append(df, ignore_index=True)"
      ],
      "metadata": {
        "colab": {
          "base_uri": "https://localhost:8080/",
          "height": 289
        },
        "id": "MsPY4A-cTEKb",
        "outputId": "13129c61-6899-49a2-9bfe-726ac4cfeccd"
      },
      "execution_count": null,
      "outputs": [
        {
          "output_type": "error",
          "ename": "NameError",
          "evalue": "ignored",
          "traceback": [
            "\u001b[0;31m---------------------------------------------------------------------------\u001b[0m",
            "\u001b[0;31mNameError\u001b[0m                                 Traceback (most recent call last)",
            "\u001b[0;32m<ipython-input-1-2f4805ff7223>\u001b[0m in \u001b[0;36m<cell line: 1>\u001b[0;34m()\u001b[0m\n\u001b[0;32m----> 1\u001b[0;31m \u001b[0mmain_df\u001b[0m \u001b[0;34m=\u001b[0m \u001b[0mpd\u001b[0m\u001b[0;34m.\u001b[0m\u001b[0mDataFrame\u001b[0m\u001b[0;34m(\u001b[0m\u001b[0;34m)\u001b[0m\u001b[0;34m\u001b[0m\u001b[0;34m\u001b[0m\u001b[0m\n\u001b[0m\u001b[1;32m      2\u001b[0m \u001b[0;32mfor\u001b[0m \u001b[0mfilename\u001b[0m \u001b[0;32min\u001b[0m \u001b[0mflist\u001b[0m\u001b[0;34m:\u001b[0m\u001b[0;34m\u001b[0m\u001b[0;34m\u001b[0m\u001b[0m\n\u001b[1;32m      3\u001b[0m     \u001b[0mprint\u001b[0m\u001b[0;34m(\u001b[0m\u001b[0mfilename\u001b[0m\u001b[0;34m)\u001b[0m\u001b[0;34m\u001b[0m\u001b[0;34m\u001b[0m\u001b[0m\n\u001b[1;32m      4\u001b[0m     \u001b[0mdf\u001b[0m \u001b[0;34m=\u001b[0m \u001b[0mpd\u001b[0m\u001b[0;34m.\u001b[0m\u001b[0mread_excel\u001b[0m\u001b[0;34m(\u001b[0m\u001b[0mfilename\u001b[0m\u001b[0;34m,\u001b[0m\u001b[0msheet_name\u001b[0m \u001b[0;34m=\u001b[0m \u001b[0;34m\"OUT\"\u001b[0m\u001b[0;34m,\u001b[0m \u001b[0mnames\u001b[0m \u001b[0;34m=\u001b[0m \u001b[0;34m[\u001b[0m\u001b[0;34m'loc'\u001b[0m\u001b[0;34m,\u001b[0m\u001b[0;34m'HoursPropelhrs'\u001b[0m\u001b[0;34m,\u001b[0m\u001b[0;34m'HoursPropelmin'\u001b[0m\u001b[0;34m,\u001b[0m\u001b[0;34m'Dethrs'\u001b[0m\u001b[0;34m,\u001b[0m\u001b[0;34m'Detmin'\u001b[0m\u001b[0;34m,\u001b[0m\u001b[0;34m'portDrifthrs'\u001b[0m\u001b[0;34m,\u001b[0m\u001b[0;34m'portDriftmin'\u001b[0m\u001b[0;34m,\u001b[0m\u001b[0;34m'disENG'\u001b[0m\u001b[0;34m,\u001b[0m\u001b[0;34m'disLOG'\u001b[0m\u001b[0;34m,\u001b[0m\u001b[0;34m'disOG'\u001b[0m\u001b[0;34m,\u001b[0m\u001b[0;34m'speedLOG'\u001b[0m\u001b[0;34m,\u001b[0m\u001b[0;34m'speedOG'\u001b[0m\u001b[0;34m,\u001b[0m\u001b[0;34m'mainEngFO'\u001b[0m\u001b[0;34m,\u001b[0m\u001b[0;34m'mainEngDO'\u001b[0m\u001b[0;34m,\u001b[0m\u001b[0;34m'auxEngFO'\u001b[0m\u001b[0;34m,\u001b[0m\u001b[0;34m'auxEngDO'\u001b[0m\u001b[0;34m,\u001b[0m\u001b[0;34m'mainEngDetFO'\u001b[0m\u001b[0;34m,\u001b[0m\u001b[0;34m'mainEngDetDO'\u001b[0m\u001b[0;34m,\u001b[0m\u001b[0;34m'auxEngDetFO'\u001b[0m\u001b[0;34m,\u001b[0m \u001b[0;34m'auxEngDetDO'\u001b[0m\u001b[0;34m,\u001b[0m\u001b[0;34m'mainEngPortFO'\u001b[0m\u001b[0;34m,\u001b[0m\u001b[0;34m'mainEngPortDO'\u001b[0m\u001b[0;34m,\u001b[0m\u001b[0;34m'AuxEngPortFO'\u001b[0m\u001b[0;34m,\u001b[0m\u001b[0;34m'AuxEngPortDo'\u001b[0m\u001b[0;34m]\u001b[0m\u001b[0;34m,\u001b[0m \u001b[0mheader\u001b[0m\u001b[0;34m=\u001b[0m\u001b[0;32mNone\u001b[0m\u001b[0;34m,\u001b[0m \u001b[0musecols\u001b[0m\u001b[0;34m=\u001b[0m\u001b[0;34m\"C,L:Q,V:X,AB:AC,AG:AJ,AO:AR,AU:AX\"\u001b[0m\u001b[0;34m,\u001b[0m\u001b[0mskiprows\u001b[0m\u001b[0;34m=\u001b[0m\u001b[0;36m9\u001b[0m\u001b[0;34m,\u001b[0m\u001b[0mnrows\u001b[0m\u001b[0;34m=\u001b[0m\u001b[0;36m40\u001b[0m\u001b[0;34m)\u001b[0m\u001b[0;34m\u001b[0m\u001b[0;34m\u001b[0m\u001b[0m\n\u001b[1;32m      5\u001b[0m     \u001b[0mmain_df\u001b[0m \u001b[0;34m=\u001b[0m \u001b[0mmain_df\u001b[0m\u001b[0;34m.\u001b[0m\u001b[0mappend\u001b[0m\u001b[0;34m(\u001b[0m\u001b[0mdf\u001b[0m\u001b[0;34m,\u001b[0m \u001b[0mignore_index\u001b[0m\u001b[0;34m=\u001b[0m\u001b[0;32mTrue\u001b[0m\u001b[0;34m)\u001b[0m\u001b[0;34m\u001b[0m\u001b[0;34m\u001b[0m\u001b[0m\n",
            "\u001b[0;31mNameError\u001b[0m: name 'pd' is not defined"
          ]
        }
      ]
    },
    {
      "cell_type": "code",
      "source": [
        "main_df.head()"
      ],
      "metadata": {
        "colab": {
          "base_uri": "https://localhost:8080/",
          "height": 300
        },
        "id": "3Cvg4Jr4TFyq",
        "outputId": "80e1b7bc-75ef-40b2-cd42-d61ce62de272"
      },
      "execution_count": null,
      "outputs": [
        {
          "output_type": "execute_result",
          "data": {
            "text/plain": [
              "   HoursPropelhrs  HoursPropelmin  Dethrs  Detmin  portDrifthrs  portDriftmin  \\\n",
              "0             2.0            54.0     0.0    56.0           1.0          20.0   \n",
              "1            24.0             0.0     NaN     NaN           NaN           NaN   \n",
              "2            24.0             0.0     NaN     NaN           NaN           NaN   \n",
              "3            23.0             0.0     NaN     NaN           NaN           NaN   \n",
              "4            24.0             0.0     NaN     NaN           NaN           NaN   \n",
              "\n",
              "   disENG  disLOG  disOG  speedLOG  ...  auxEngFO  auxEngDO  mainEngDetFO  \\\n",
              "0    42.0    44.0   44.0      15.2  ...       NaN       0.1           NaN   \n",
              "1   362.0   376.0  374.0      15.7  ...       NaN       2.6           NaN   \n",
              "2   362.0   375.0  376.0      15.6  ...       NaN       2.7           NaN   \n",
              "3   345.0   337.0  333.0      14.7  ...       NaN       5.7           NaN   \n",
              "4   350.0   345.0  340.0      14.4  ...       NaN       6.0           NaN   \n",
              "\n",
              "   mainEngDetDO  auxEngDetFO  auxEngDetDO  mainEngPortFO  mainEngPortDO  \\\n",
              "0           0.0          0.0          0.0            NaN            0.1   \n",
              "1           0.0          0.0          0.0            NaN            NaN   \n",
              "2           0.0          0.0          0.0            NaN            NaN   \n",
              "3           0.0          0.0          0.0            NaN            NaN   \n",
              "4           0.0          0.0          0.0            NaN            NaN   \n",
              "\n",
              "   AuxEngPortFO  AuxEngPortDo  \n",
              "0           0.1           NaN  \n",
              "1           NaN           NaN  \n",
              "2           NaN           NaN  \n",
              "3           NaN           NaN  \n",
              "4           NaN           NaN  \n",
              "\n",
              "[5 rows x 23 columns]"
            ],
            "text/html": [
              "\n",
              "  <div id=\"df-f465a25a-b6d3-428d-a6b6-65cfd51a0ff2\">\n",
              "    <div class=\"colab-df-container\">\n",
              "      <div>\n",
              "<style scoped>\n",
              "    .dataframe tbody tr th:only-of-type {\n",
              "        vertical-align: middle;\n",
              "    }\n",
              "\n",
              "    .dataframe tbody tr th {\n",
              "        vertical-align: top;\n",
              "    }\n",
              "\n",
              "    .dataframe thead th {\n",
              "        text-align: right;\n",
              "    }\n",
              "</style>\n",
              "<table border=\"1\" class=\"dataframe\">\n",
              "  <thead>\n",
              "    <tr style=\"text-align: right;\">\n",
              "      <th></th>\n",
              "      <th>HoursPropelhrs</th>\n",
              "      <th>HoursPropelmin</th>\n",
              "      <th>Dethrs</th>\n",
              "      <th>Detmin</th>\n",
              "      <th>portDrifthrs</th>\n",
              "      <th>portDriftmin</th>\n",
              "      <th>disENG</th>\n",
              "      <th>disLOG</th>\n",
              "      <th>disOG</th>\n",
              "      <th>speedLOG</th>\n",
              "      <th>...</th>\n",
              "      <th>auxEngFO</th>\n",
              "      <th>auxEngDO</th>\n",
              "      <th>mainEngDetFO</th>\n",
              "      <th>mainEngDetDO</th>\n",
              "      <th>auxEngDetFO</th>\n",
              "      <th>auxEngDetDO</th>\n",
              "      <th>mainEngPortFO</th>\n",
              "      <th>mainEngPortDO</th>\n",
              "      <th>AuxEngPortFO</th>\n",
              "      <th>AuxEngPortDo</th>\n",
              "    </tr>\n",
              "  </thead>\n",
              "  <tbody>\n",
              "    <tr>\n",
              "      <th>0</th>\n",
              "      <td>2.0</td>\n",
              "      <td>54.0</td>\n",
              "      <td>0.0</td>\n",
              "      <td>56.0</td>\n",
              "      <td>1.0</td>\n",
              "      <td>20.0</td>\n",
              "      <td>42.0</td>\n",
              "      <td>44.0</td>\n",
              "      <td>44.0</td>\n",
              "      <td>15.2</td>\n",
              "      <td>...</td>\n",
              "      <td>NaN</td>\n",
              "      <td>0.1</td>\n",
              "      <td>NaN</td>\n",
              "      <td>0.0</td>\n",
              "      <td>0.0</td>\n",
              "      <td>0.0</td>\n",
              "      <td>NaN</td>\n",
              "      <td>0.1</td>\n",
              "      <td>0.1</td>\n",
              "      <td>NaN</td>\n",
              "    </tr>\n",
              "    <tr>\n",
              "      <th>1</th>\n",
              "      <td>24.0</td>\n",
              "      <td>0.0</td>\n",
              "      <td>NaN</td>\n",
              "      <td>NaN</td>\n",
              "      <td>NaN</td>\n",
              "      <td>NaN</td>\n",
              "      <td>362.0</td>\n",
              "      <td>376.0</td>\n",
              "      <td>374.0</td>\n",
              "      <td>15.7</td>\n",
              "      <td>...</td>\n",
              "      <td>NaN</td>\n",
              "      <td>2.6</td>\n",
              "      <td>NaN</td>\n",
              "      <td>0.0</td>\n",
              "      <td>0.0</td>\n",
              "      <td>0.0</td>\n",
              "      <td>NaN</td>\n",
              "      <td>NaN</td>\n",
              "      <td>NaN</td>\n",
              "      <td>NaN</td>\n",
              "    </tr>\n",
              "    <tr>\n",
              "      <th>2</th>\n",
              "      <td>24.0</td>\n",
              "      <td>0.0</td>\n",
              "      <td>NaN</td>\n",
              "      <td>NaN</td>\n",
              "      <td>NaN</td>\n",
              "      <td>NaN</td>\n",
              "      <td>362.0</td>\n",
              "      <td>375.0</td>\n",
              "      <td>376.0</td>\n",
              "      <td>15.6</td>\n",
              "      <td>...</td>\n",
              "      <td>NaN</td>\n",
              "      <td>2.7</td>\n",
              "      <td>NaN</td>\n",
              "      <td>0.0</td>\n",
              "      <td>0.0</td>\n",
              "      <td>0.0</td>\n",
              "      <td>NaN</td>\n",
              "      <td>NaN</td>\n",
              "      <td>NaN</td>\n",
              "      <td>NaN</td>\n",
              "    </tr>\n",
              "    <tr>\n",
              "      <th>3</th>\n",
              "      <td>23.0</td>\n",
              "      <td>0.0</td>\n",
              "      <td>NaN</td>\n",
              "      <td>NaN</td>\n",
              "      <td>NaN</td>\n",
              "      <td>NaN</td>\n",
              "      <td>345.0</td>\n",
              "      <td>337.0</td>\n",
              "      <td>333.0</td>\n",
              "      <td>14.7</td>\n",
              "      <td>...</td>\n",
              "      <td>NaN</td>\n",
              "      <td>5.7</td>\n",
              "      <td>NaN</td>\n",
              "      <td>0.0</td>\n",
              "      <td>0.0</td>\n",
              "      <td>0.0</td>\n",
              "      <td>NaN</td>\n",
              "      <td>NaN</td>\n",
              "      <td>NaN</td>\n",
              "      <td>NaN</td>\n",
              "    </tr>\n",
              "    <tr>\n",
              "      <th>4</th>\n",
              "      <td>24.0</td>\n",
              "      <td>0.0</td>\n",
              "      <td>NaN</td>\n",
              "      <td>NaN</td>\n",
              "      <td>NaN</td>\n",
              "      <td>NaN</td>\n",
              "      <td>350.0</td>\n",
              "      <td>345.0</td>\n",
              "      <td>340.0</td>\n",
              "      <td>14.4</td>\n",
              "      <td>...</td>\n",
              "      <td>NaN</td>\n",
              "      <td>6.0</td>\n",
              "      <td>NaN</td>\n",
              "      <td>0.0</td>\n",
              "      <td>0.0</td>\n",
              "      <td>0.0</td>\n",
              "      <td>NaN</td>\n",
              "      <td>NaN</td>\n",
              "      <td>NaN</td>\n",
              "      <td>NaN</td>\n",
              "    </tr>\n",
              "  </tbody>\n",
              "</table>\n",
              "<p>5 rows × 23 columns</p>\n",
              "</div>\n",
              "      <button class=\"colab-df-convert\" onclick=\"convertToInteractive('df-f465a25a-b6d3-428d-a6b6-65cfd51a0ff2')\"\n",
              "              title=\"Convert this dataframe to an interactive table.\"\n",
              "              style=\"display:none;\">\n",
              "        \n",
              "  <svg xmlns=\"http://www.w3.org/2000/svg\" height=\"24px\"viewBox=\"0 0 24 24\"\n",
              "       width=\"24px\">\n",
              "    <path d=\"M0 0h24v24H0V0z\" fill=\"none\"/>\n",
              "    <path d=\"M18.56 5.44l.94 2.06.94-2.06 2.06-.94-2.06-.94-.94-2.06-.94 2.06-2.06.94zm-11 1L8.5 8.5l.94-2.06 2.06-.94-2.06-.94L8.5 2.5l-.94 2.06-2.06.94zm10 10l.94 2.06.94-2.06 2.06-.94-2.06-.94-.94-2.06-.94 2.06-2.06.94z\"/><path d=\"M17.41 7.96l-1.37-1.37c-.4-.4-.92-.59-1.43-.59-.52 0-1.04.2-1.43.59L10.3 9.45l-7.72 7.72c-.78.78-.78 2.05 0 2.83L4 21.41c.39.39.9.59 1.41.59.51 0 1.02-.2 1.41-.59l7.78-7.78 2.81-2.81c.8-.78.8-2.07 0-2.86zM5.41 20L4 18.59l7.72-7.72 1.47 1.35L5.41 20z\"/>\n",
              "  </svg>\n",
              "      </button>\n",
              "      \n",
              "  <style>\n",
              "    .colab-df-container {\n",
              "      display:flex;\n",
              "      flex-wrap:wrap;\n",
              "      gap: 12px;\n",
              "    }\n",
              "\n",
              "    .colab-df-convert {\n",
              "      background-color: #E8F0FE;\n",
              "      border: none;\n",
              "      border-radius: 50%;\n",
              "      cursor: pointer;\n",
              "      display: none;\n",
              "      fill: #1967D2;\n",
              "      height: 32px;\n",
              "      padding: 0 0 0 0;\n",
              "      width: 32px;\n",
              "    }\n",
              "\n",
              "    .colab-df-convert:hover {\n",
              "      background-color: #E2EBFA;\n",
              "      box-shadow: 0px 1px 2px rgba(60, 64, 67, 0.3), 0px 1px 3px 1px rgba(60, 64, 67, 0.15);\n",
              "      fill: #174EA6;\n",
              "    }\n",
              "\n",
              "    [theme=dark] .colab-df-convert {\n",
              "      background-color: #3B4455;\n",
              "      fill: #D2E3FC;\n",
              "    }\n",
              "\n",
              "    [theme=dark] .colab-df-convert:hover {\n",
              "      background-color: #434B5C;\n",
              "      box-shadow: 0px 1px 3px 1px rgba(0, 0, 0, 0.15);\n",
              "      filter: drop-shadow(0px 1px 2px rgba(0, 0, 0, 0.3));\n",
              "      fill: #FFFFFF;\n",
              "    }\n",
              "  </style>\n",
              "\n",
              "      <script>\n",
              "        const buttonEl =\n",
              "          document.querySelector('#df-f465a25a-b6d3-428d-a6b6-65cfd51a0ff2 button.colab-df-convert');\n",
              "        buttonEl.style.display =\n",
              "          google.colab.kernel.accessAllowed ? 'block' : 'none';\n",
              "\n",
              "        async function convertToInteractive(key) {\n",
              "          const element = document.querySelector('#df-f465a25a-b6d3-428d-a6b6-65cfd51a0ff2');\n",
              "          const dataTable =\n",
              "            await google.colab.kernel.invokeFunction('convertToInteractive',\n",
              "                                                     [key], {});\n",
              "          if (!dataTable) return;\n",
              "\n",
              "          const docLinkHtml = 'Like what you see? Visit the ' +\n",
              "            '<a target=\"_blank\" href=https://colab.research.google.com/notebooks/data_table.ipynb>data table notebook</a>'\n",
              "            + ' to learn more about interactive tables.';\n",
              "          element.innerHTML = '';\n",
              "          dataTable['output_type'] = 'display_data';\n",
              "          await google.colab.output.renderOutput(dataTable, element);\n",
              "          const docLink = document.createElement('div');\n",
              "          docLink.innerHTML = docLinkHtml;\n",
              "          element.appendChild(docLink);\n",
              "        }\n",
              "      </script>\n",
              "    </div>\n",
              "  </div>\n",
              "  "
            ]
          },
          "metadata": {},
          "execution_count": 30
        }
      ]
    },
    {
      "cell_type": "code",
      "source": [
        "main_df.to_excel(\"output.xlsx\")"
      ],
      "metadata": {
        "id": "H4rh-wkhT1kD"
      },
      "execution_count": null,
      "outputs": []
    }
  ]
}